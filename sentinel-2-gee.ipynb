{
 "cells": [
  {
   "cell_type": "code",
   "execution_count": 1,
   "id": "d7f57871",
   "metadata": {},
   "outputs": [],
   "source": [
    "import requests\n",
    "import os\n",
    "import xarray as xr\n",
    "import rioxarray as rxr\n",
    "import geopandas as gpd\n",
    "import earthpy.plot as ep\n",
    "import matplotlib.pyplot as plt\n",
    "import matplotlib.animation as animation\n",
    "import numpy as np\n",
    "from tqdm import tqdm\n",
    "from rasterio.plot import plotting_extent\n",
    "import csv\n",
    "import io\n",
    "from contextlib import redirect_stdout\n",
    "from shapely.geometry import Point, box\n",
    "\n",
    "\n",
    "data_dir = os.path.join(os.path.expanduser('~'), 'GitHub', 'Chile-Glaciers')\n"
   ]
  },
  {
   "cell_type": "code",
   "execution_count": 2,
   "id": "e0e0da16",
   "metadata": {},
   "outputs": [],
   "source": [
    "import ee\n",
    "import geemap\n",
    "\n",
    "ee.Initialize()"
   ]
  },
  {
   "cell_type": "code",
   "execution_count": 3,
   "id": "1a4a4e7b",
   "metadata": {},
   "outputs": [],
   "source": [
    "glacier_shape_path = os.path.join(data_dir, 'data', 'glims_buffer', 'glims_buffer.shp')\n",
    "study_area_path = os.path.join(data_dir, 'data', 'studyareas', 'studyareas.shp')\n",
    "small_area_file1 = os.path.join(data_dir, 'data', 'studyareas', 'small_study', 'small_study.shp')\n",
    "small_area_file2 = os.path.join(data_dir, 'data', 'studyareas', 'small_study.geojson')\n",
    "\n",
    "glaciers = gpd.read_file(glacier_shape_path)\n",
    "study_areas = gpd.read_file(study_area_path).to_crs(glaciers.crs)\n",
    "small_box = box(350000, 6200000, 500000, 6400000)\n",
    "small_box_gdf = gpd.GeoDataFrame(geometry=[small_box], crs=glaciers.crs)\n",
    "small_glaciers = glaciers.clip(small_box_gdf)\n",
    "small_box_gdf.to_crs('EPSG:4326').to_file(small_area_file1)\n",
    "small_box_gdf.to_crs('EPSG:4326').to_file(small_area_file2)"
   ]
  },
  {
   "cell_type": "code",
   "execution_count": 4,
   "id": "20425511",
   "metadata": {},
   "outputs": [
    {
     "name": "stdout",
     "output_type": "stream",
     "text": [
      "Could not convert the geojson to ee.Geometry()\n"
     ]
    },
    {
     "ename": "Exception",
     "evalue": "'utf-8' codec can't decode byte 0xe8 in position 28: invalid continuation byte",
     "output_type": "error",
     "traceback": [
      "\u001b[0;31m---------------------------------------------------------------------------\u001b[0m",
      "\u001b[0;31mUnicodeDecodeError\u001b[0m                        Traceback (most recent call last)",
      "File \u001b[0;32m~/miniconda3/envs/earth-analytics-python/lib/python3.9/site-packages/geemap/common.py:1289\u001b[0m, in \u001b[0;36mgeojson_to_ee\u001b[0;34m(geo_json, geodesic, encoding)\u001b[0m\n\u001b[1;32m   1288\u001b[0m         \u001b[38;5;28;01mwith\u001b[39;00m \u001b[38;5;28mopen\u001b[39m(os\u001b[38;5;241m.\u001b[39mpath\u001b[38;5;241m.\u001b[39mabspath(geo_json), encoding\u001b[38;5;241m=\u001b[39mencoding) \u001b[38;5;28;01mas\u001b[39;00m f:\n\u001b[0;32m-> 1289\u001b[0m             geo_json \u001b[38;5;241m=\u001b[39m \u001b[43mjson\u001b[49m\u001b[38;5;241;43m.\u001b[39;49m\u001b[43mload\u001b[49m\u001b[43m(\u001b[49m\u001b[43mf\u001b[49m\u001b[43m)\u001b[49m\n\u001b[1;32m   1291\u001b[0m \u001b[38;5;66;03m# geo_json[\"geodesic\"] = geodesic\u001b[39;00m\n",
      "File \u001b[0;32m~/miniconda3/envs/earth-analytics-python/lib/python3.9/json/__init__.py:293\u001b[0m, in \u001b[0;36mload\u001b[0;34m(fp, cls, object_hook, parse_float, parse_int, parse_constant, object_pairs_hook, **kw)\u001b[0m\n\u001b[1;32m    276\u001b[0m \u001b[38;5;250m\u001b[39m\u001b[38;5;124;03m\"\"\"Deserialize ``fp`` (a ``.read()``-supporting file-like object containing\u001b[39;00m\n\u001b[1;32m    277\u001b[0m \u001b[38;5;124;03ma JSON document) to a Python object.\u001b[39;00m\n\u001b[1;32m    278\u001b[0m \n\u001b[0;32m   (...)\u001b[0m\n\u001b[1;32m    291\u001b[0m \u001b[38;5;124;03mkwarg; otherwise ``JSONDecoder`` is used.\u001b[39;00m\n\u001b[1;32m    292\u001b[0m \u001b[38;5;124;03m\"\"\"\u001b[39;00m\n\u001b[0;32m--> 293\u001b[0m \u001b[38;5;28;01mreturn\u001b[39;00m loads(\u001b[43mfp\u001b[49m\u001b[38;5;241;43m.\u001b[39;49m\u001b[43mread\u001b[49m\u001b[43m(\u001b[49m\u001b[43m)\u001b[49m,\n\u001b[1;32m    294\u001b[0m     \u001b[38;5;28mcls\u001b[39m\u001b[38;5;241m=\u001b[39m\u001b[38;5;28mcls\u001b[39m, object_hook\u001b[38;5;241m=\u001b[39mobject_hook,\n\u001b[1;32m    295\u001b[0m     parse_float\u001b[38;5;241m=\u001b[39mparse_float, parse_int\u001b[38;5;241m=\u001b[39mparse_int,\n\u001b[1;32m    296\u001b[0m     parse_constant\u001b[38;5;241m=\u001b[39mparse_constant, object_pairs_hook\u001b[38;5;241m=\u001b[39mobject_pairs_hook, \u001b[38;5;241m*\u001b[39m\u001b[38;5;241m*\u001b[39mkw)\n",
      "File \u001b[0;32m~/miniconda3/envs/earth-analytics-python/lib/python3.9/codecs.py:322\u001b[0m, in \u001b[0;36mBufferedIncrementalDecoder.decode\u001b[0;34m(self, input, final)\u001b[0m\n\u001b[1;32m    321\u001b[0m data \u001b[38;5;241m=\u001b[39m \u001b[38;5;28mself\u001b[39m\u001b[38;5;241m.\u001b[39mbuffer \u001b[38;5;241m+\u001b[39m \u001b[38;5;28minput\u001b[39m\n\u001b[0;32m--> 322\u001b[0m (result, consumed) \u001b[38;5;241m=\u001b[39m \u001b[38;5;28;43mself\u001b[39;49m\u001b[38;5;241;43m.\u001b[39;49m\u001b[43m_buffer_decode\u001b[49m\u001b[43m(\u001b[49m\u001b[43mdata\u001b[49m\u001b[43m,\u001b[49m\u001b[43m \u001b[49m\u001b[38;5;28;43mself\u001b[39;49m\u001b[38;5;241;43m.\u001b[39;49m\u001b[43merrors\u001b[49m\u001b[43m,\u001b[49m\u001b[43m \u001b[49m\u001b[43mfinal\u001b[49m\u001b[43m)\u001b[49m\n\u001b[1;32m    323\u001b[0m \u001b[38;5;66;03m# keep undecoded input until the next call\u001b[39;00m\n",
      "\u001b[0;31mUnicodeDecodeError\u001b[0m: 'utf-8' codec can't decode byte 0xe8 in position 28: invalid continuation byte",
      "\nDuring handling of the above exception, another exception occurred:\n",
      "\u001b[0;31mException\u001b[0m                                 Traceback (most recent call last)",
      "\u001b[0;32m/tmp/ipykernel_46572/4110873803.py\u001b[0m in \u001b[0;36m?\u001b[0;34m()\u001b[0m\n\u001b[0;32m----> 5\u001b[0;31m \u001b[0mMap\u001b[0m \u001b[0;34m=\u001b[0m \u001b[0mgeemap\u001b[0m\u001b[0;34m.\u001b[0m\u001b[0mMap\u001b[0m\u001b[0;34m(\u001b[0m\u001b[0;34m)\u001b[0m\u001b[0;34m\u001b[0m\u001b[0;34m\u001b[0m\u001b[0m\n\u001b[0m\u001b[1;32m      6\u001b[0m \u001b[0;31m# We will use the Sentinel-2 Surface Reflection product.\u001b[0m\u001b[0;34m\u001b[0m\u001b[0;34m\u001b[0m\u001b[0m\n\u001b[1;32m      7\u001b[0m \u001b[0;31m# This dataset has already been atmospherically corrected\u001b[0m\u001b[0;34m\u001b[0m\u001b[0;34m\u001b[0m\u001b[0m\n\u001b[1;32m      8\u001b[0m \u001b[0;34m\u001b[0m\u001b[0m\n",
      "\u001b[0;32m~/miniconda3/envs/earth-analytics-python/lib/python3.9/site-packages/geemap/common.py\u001b[0m in \u001b[0;36m?\u001b[0;34m(geo_json, geodesic, encoding)\u001b[0m\n\u001b[1;32m   1319\u001b[0m             \u001b[0;32mraise\u001b[0m \u001b[0mException\u001b[0m\u001b[0;34m(\u001b[0m\u001b[0;34m\"Could not convert the geojson to ee.Geometry()\"\u001b[0m\u001b[0;34m)\u001b[0m\u001b[0;34m\u001b[0m\u001b[0;34m\u001b[0m\u001b[0m\n\u001b[1;32m   1320\u001b[0m \u001b[0;34m\u001b[0m\u001b[0m\n\u001b[1;32m   1321\u001b[0m     \u001b[0;32mexcept\u001b[0m \u001b[0mException\u001b[0m \u001b[0;32mas\u001b[0m \u001b[0me\u001b[0m\u001b[0;34m:\u001b[0m\u001b[0;34m\u001b[0m\u001b[0;34m\u001b[0m\u001b[0m\n\u001b[1;32m   1322\u001b[0m         \u001b[0mprint\u001b[0m\u001b[0;34m(\u001b[0m\u001b[0;34m\"Could not convert the geojson to ee.Geometry()\"\u001b[0m\u001b[0;34m)\u001b[0m\u001b[0;34m\u001b[0m\u001b[0;34m\u001b[0m\u001b[0m\n\u001b[0;32m-> 1323\u001b[0;31m         \u001b[0;32mraise\u001b[0m \u001b[0mException\u001b[0m\u001b[0;34m(\u001b[0m\u001b[0me\u001b[0m\u001b[0;34m)\u001b[0m\u001b[0;34m\u001b[0m\u001b[0;34m\u001b[0m\u001b[0m\n\u001b[0m",
      "\u001b[0;31mException\u001b[0m: 'utf-8' codec can't decode byte 0xe8 in position 28: invalid continuation byte"
     ]
    }
   ],
   "source": [
    "Map = geemap.Map()\n",
    "# We will use the Sentinel-2 Surface Reflection product.\n",
    "# This dataset has already been atmospherically corrected\n",
    "\n",
    "country = geemap.geojson_to_ee(small_area_file2)\n",
    "s2 = ee.ImageCollection(\"COPERNICUS/S2_SR\")\n",
    "# Function to mask clouds S2\n",
    "def maskS2srClouds(image):\n",
    "    qa = image.select('QA60')\n",
    "\n",
    "    # Bits 10 and 11 are clouds and cirrus, respectively.\n",
    "    cloudBitMask = 1 << 10\n",
    "    cirrusBitMask = 1 << 11\n",
    "\n",
    "    # Both flags should be set to zero, indicating clear conditions.\n",
    "    mask = qa.bitwiseAnd(cloudBitMask).eq(0).And(qa.bitwiseAnd(cirrusBitMask).eq(0))\n",
    "\n",
    "    return image.updateMask(mask).divide(10000)\n",
    "\n",
    "\n",
    "  # Filter Sentinel-2 collection\n",
    "s2Filt = s2.filterBounds(country).filterDate(\n",
    "                         '2023-01-01','2023-02-28').filterMetadata(\n",
    "                         'CLOUDY_PIXEL_PERCENTAGE', 'less_than',50).map(maskS2srClouds)\n",
    "\n",
    "  # print('Sentinel-2 Filtered collection',s2Filt)\n",
    "\n",
    "  # Composite images\n",
    "s2composite = s2Filt.median().clip(country); # can be changed to mean, min, etc\n",
    "s2composite\n"
   ]
  },
  {
   "cell_type": "code",
   "execution_count": null,
   "id": "7bb39e6d-08e1-415e-a89f-d4f30e6f6758",
   "metadata": {},
   "outputs": [],
   "source": []
  },
  {
   "cell_type": "code",
   "execution_count": null,
   "id": "4fcf352b",
   "metadata": {
    "tags": []
   },
   "outputs": [],
   "source": [
    "# # Add composite to map\n",
    "Map.addLayer(s2composite,{'bands':['B4', 'B3', 'B2'], 'min':0.0, 'max':0.6,\n",
    "                          'gamma':1.5},'Sentinel-2 2023 composite')\n",
    "Map.setCenter(-69, -33, 8)\n",
    "# # Test another band combination (SWIR 1, NIR, Blue)\n",
    "Map.addLayer(s2composite,{'bands':['B11', 'B8', 'B2'], 'min':0, 'max':0.6}, 'Sentinel-2 2023 composite SWIR/NIR/Blue')\n",
    "Map"
   ]
  }
 ],
 "metadata": {
  "kernelspec": {
   "display_name": "Python 3 (ipykernel)",
   "language": "python",
   "name": "python3"
  },
  "language_info": {
   "codemirror_mode": {
    "name": "ipython",
    "version": 3
   },
   "file_extension": ".py",
   "mimetype": "text/x-python",
   "name": "python",
   "nbconvert_exporter": "python",
   "pygments_lexer": "ipython3",
   "version": "3.9.16"
  }
 },
 "nbformat": 4,
 "nbformat_minor": 5
}
