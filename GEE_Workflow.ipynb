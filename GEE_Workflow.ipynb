{
 "cells": [
  {
   "cell_type": "code",
   "execution_count": 1,
   "id": "a77f3f64",
   "metadata": {},
   "outputs": [
    {
     "name": "stderr",
     "output_type": "stream",
     "text": [
      "/tmp/ipykernel_28796/2811974734.py:5: UserWarning: Shapely 2.0 is installed, but because PyGEOS is also installed, GeoPandas will still use PyGEOS by default for now. To force to use and test Shapely 2.0, you have to set the environment variable USE_PYGEOS=0. You can do this before starting the Python process, or in your code before importing geopandas:\n",
      "\n",
      "import os\n",
      "os.environ['USE_PYGEOS'] = '0'\n",
      "import geopandas\n",
      "\n",
      "In a future release, GeoPandas will switch to using Shapely by default. If you are using PyGEOS directly (calling PyGEOS functions on geometries from GeoPandas), this will then stop working and you are encouraged to migrate from PyGEOS to Shapely 2.0 (https://shapely.readthedocs.io/en/latest/migration_pygeos.html).\n",
      "  import geopandas as gpd\n"
     ]
    }
   ],
   "source": [
    "import requests\n",
    "import os\n",
    "import xarray as xr\n",
    "import rioxarray as rxr\n",
    "import geopandas as gpd\n",
    "import earthpy.plot as ep\n",
    "import matplotlib.pyplot as plt\n",
    "import matplotlib.animation as animation\n",
    "import numpy as np\n",
    "from tqdm import tqdm\n",
    "from rasterio.plot import plotting_extent\n",
    "import csv\n",
    "import io\n",
    "from contextlib import redirect_stdout\n",
    "from shapely.geometry import Point\n",
    "\n",
    "\n",
    "data_dir = os.path.join(os.path.expanduser('~'), 'GitHub', 'Chile-Glaciers')"
   ]
  },
  {
   "cell_type": "code",
   "execution_count": 2,
   "id": "62c8fc60",
   "metadata": {},
   "outputs": [],
   "source": [
    "import ee\n",
    "import geemap\n",
    "\n",
    "ee.Initialize()\n"
   ]
  },
  {
   "cell_type": "code",
   "execution_count": 3,
   "id": "d3cd99bf",
   "metadata": {},
   "outputs": [],
   "source": [
    "countries = gpd.read_file(os.path.join('data', 'ne_50m_admin_0_countries', 'ne_50m_admin_0_countries.shp'))\n",
    "\n",
    "chile = countries[countries['SOVEREIGNT']=='Chile'].clip([-75,-60,-65,-15])"
   ]
  },
  {
   "cell_type": "code",
   "execution_count": 4,
   "id": "75d8fdcf",
   "metadata": {},
   "outputs": [],
   "source": [
    "clipped_chile_path = os.path.join(data_dir, \"data\", \"chile\", \"chile.shp\")\n",
    "chile.to_file(clipped_chile_path)"
   ]
  },
  {
   "cell_type": "code",
   "execution_count": 5,
   "id": "6f5f1d71",
   "metadata": {},
   "outputs": [],
   "source": [
    "clipped_chile = gpd.read_file(clipped_chile_path)"
   ]
  },
  {
   "cell_type": "code",
   "execution_count": 6,
   "id": "ed1a3805",
   "metadata": {},
   "outputs": [
    {
     "data": {
      "text/html": [
       "<div>\n",
       "<style scoped>\n",
       "    .dataframe tbody tr th:only-of-type {\n",
       "        vertical-align: middle;\n",
       "    }\n",
       "\n",
       "    .dataframe tbody tr th {\n",
       "        vertical-align: top;\n",
       "    }\n",
       "\n",
       "    .dataframe thead th {\n",
       "        text-align: right;\n",
       "    }\n",
       "</style>\n",
       "<table border=\"1\" class=\"dataframe\">\n",
       "  <thead>\n",
       "    <tr style=\"text-align: right;\">\n",
       "      <th></th>\n",
       "      <th>minx</th>\n",
       "      <th>miny</th>\n",
       "      <th>maxx</th>\n",
       "      <th>maxy</th>\n",
       "    </tr>\n",
       "  </thead>\n",
       "  <tbody>\n",
       "    <tr>\n",
       "      <th>0</th>\n",
       "      <td>-75.0</td>\n",
       "      <td>-55.891699</td>\n",
       "      <td>-66.435791</td>\n",
       "      <td>-17.506055</td>\n",
       "    </tr>\n",
       "  </tbody>\n",
       "</table>\n",
       "</div>"
      ],
      "text/plain": [
       "   minx       miny       maxx       maxy\n",
       "0 -75.0 -55.891699 -66.435791 -17.506055"
      ]
     },
     "execution_count": 6,
     "metadata": {},
     "output_type": "execute_result"
    }
   ],
   "source": [
    "clipped_chile.bounds"
   ]
  },
  {
   "cell_type": "code",
   "execution_count": 7,
   "id": "9b718295",
   "metadata": {},
   "outputs": [],
   "source": [
    "chile_ee = geemap.shp_to_ee(clipped_chile_path)"
   ]
  },
  {
   "cell_type": "code",
   "execution_count": 8,
   "id": "0b7416c6",
   "metadata": {},
   "outputs": [],
   "source": [
    "def get_NDSI_gee(geometry_path):\n",
    "    \"\"\"\n",
    "    Calculate Normalized Difference Snow Index (NDSI) for a given geometry using Google Earth Engine.        \n",
    "    \"\"\"\n",
    "    gee_geom = geemap.shp_to_ee(geometry_path)\n",
    "    bBox = ee.Geometry.BBox(-72, -38, -71, -37)\n",
    "\n",
    "    bBoxBounds = bBox.bounds()\n",
    "\n",
    "    # Initialize an ImageCollection object with the desired Landsat dataset\n",
    "    l8 = ee.ImageCollection('LANDSAT/LC08/C02/T1_TOA')\n",
    "\n",
    "    # Filter the Landsat ImageCollection by the geometry, date range and sort by cloud cover\n",
    "    # Select the first image (the one with the least cloud cover)\n",
    "    image = ee.Image(\n",
    "        l8.filterBounds(gee_geom)\n",
    "        .filterDate('2022-01-01', '2022-03-30')\n",
    "        .filterMetadata('CLOUD_COVER', 'less_than', 10)\n",
    "        .mean()\n",
    "    )\n",
    "    \n",
    "    # Calculate NDSI from the selected image, rename the resulting image to 'NDSI'\n",
    "    ndsi = image.normalizedDifference(['B3', 'B6']).rename('NDSI')\n",
    "    red_band = image.select('B4')\n",
    "    ndsi = ndsi.updateMask(red_band.gte(.05));\n",
    "    ndsi_clip = ndsi.clip(gee_geom).unmask()\n",
    "    return ndsi_clip.gte(.4)\n",
    "    boxcar = ee.Kernel.square(21, 'pixels', False)\n",
    "\n",
    "    # Clip the NDSI image to the geometry and unmask the result\n",
    "    return ndsi_clip.convolve(boxcar)\n",
    "\n",
    "\n",
    "def export_open_gee(gee_ndsi, geometry, out_dir):\n",
    "    \"\"\"\n",
    "    Export an Earth Engine image to a GeoTIFF file and open it with RioXarray.\n",
    "\n",
    "    \"\"\"\n",
    "    # set a trap and redirect stdout\n",
    "    trap = io.StringIO()\n",
    "\n",
    "    # Create a file name\n",
    "    filename = os.path.join(\n",
    "        out_dir, 'chile_ndsi.tif')\n",
    "\n",
    "    # Get the bounding box coordinates of the catchment feature\n",
    "    bounds = list(geometry.bounds.values[0])\n",
    "\n",
    "    # If the exported file already exists, remove it\n",
    "    if os.path.exists(filename):\n",
    "        os.remove(filename)\n",
    "\n",
    "    # Export the Earth Engine image to the GeoTIFF file\n",
    "#     with redirect_stdout(trap):\n",
    "    geemap.ee_export_image(\n",
    "        gee_ndsi, filename=filename, scale=30, region=bounds, file_per_band=False, crs=\"EPSG:4326\"\n",
    "    )\n",
    "\n",
    "    # Open the exported GeoTIFF file into an xarray dataarray\n",
    "    return rxr.open_rasterio(filename, mask=True).rio.clip(geometry)"
   ]
  },
  {
   "cell_type": "code",
   "execution_count": 9,
   "id": "89b16890",
   "metadata": {},
   "outputs": [],
   "source": [
    "ndsi_gee = get_NDSI_gee(clipped_chile_path)"
   ]
  },
  {
   "cell_type": "code",
   "execution_count": 10,
   "id": "555ca6ce",
   "metadata": {},
   "outputs": [
    {
     "data": {
      "application/vnd.jupyter.widget-view+json": {
       "model_id": "88e5bc6d572d459a8b4278b9a86e6a94",
       "version_major": 2,
       "version_minor": 0
      },
      "text/plain": [
       "Map(center=[-37, -71], controls=(WidgetControl(options=['position', 'transparent_bg'], widget=HBox(children=(T…"
      ]
     },
     "metadata": {},
     "output_type": "display_data"
    }
   ],
   "source": [
    "Map = geemap.Map()\n",
    "Map.addLayer(ndsi_gee)\n",
    "Map.setCenter(-71, -37, 8)\n",
    "# Map.addLayer(chile_ee)\n",
    "\n",
    "Map"
   ]
  }
 ],
 "metadata": {
  "kernelspec": {
   "display_name": "Python 3 (ipykernel)",
   "language": "python",
   "name": "python3"
  },
  "language_info": {
   "codemirror_mode": {
    "name": "ipython",
    "version": 3
   },
   "file_extension": ".py",
   "mimetype": "text/x-python",
   "name": "python",
   "nbconvert_exporter": "python",
   "pygments_lexer": "ipython3",
   "version": "3.9.16"
  }
 },
 "nbformat": 4,
 "nbformat_minor": 5
}
