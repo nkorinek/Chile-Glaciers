{
 "cells": [
  {
   "cell_type": "code",
   "execution_count": 7,
   "id": "4fe40596",
   "metadata": {},
   "outputs": [],
   "source": [
    "#GLIMS buffer + clip\n",
    "#May 25,2023 \n",
    "\n",
    "import os\n",
    "import geopandas as gpd\n"
   ]
  },
  {
   "cell_type": "code",
   "execution_count": 5,
   "id": "fdbff9c0",
   "metadata": {},
   "outputs": [
    {
     "name": "stdout",
     "output_type": "stream",
     "text": [
      "Help on package geopandas:\n",
      "\n",
      "NAME\n",
      "    geopandas\n",
      "\n",
      "PACKAGE CONTENTS\n",
      "    _compat\n",
      "    _config\n",
      "    _decorator\n",
      "    _vectorized\n",
      "    _version\n",
      "    array\n",
      "    base\n",
      "    conftest\n",
      "    datasets (package)\n",
      "    explore\n",
      "    geodataframe\n",
      "    geoseries\n",
      "    io (package)\n",
      "    plotting\n",
      "    sindex\n",
      "    testing\n",
      "    tests (package)\n",
      "    tools (package)\n",
      "\n",
      "DATA\n",
      "    options = Options(\n",
      "      display_precision: None [default: Non...USE_PYGEO...\n",
      "\n",
      "VERSION\n",
      "    0.12.2\n",
      "\n",
      "FILE\n",
      "    /Users/milliespencer/miniconda3/envs/earth-analytics-python/lib/python3.8/site-packages/geopandas/__init__.py\n",
      "\n",
      "\n"
     ]
    }
   ],
   "source": [
    "help(geopandas)\n",
    "#help(gpd)"
   ]
  },
  {
   "cell_type": "code",
   "execution_count": 9,
   "id": "b85fe933",
   "metadata": {},
   "outputs": [
    {
     "data": {
      "text/plain": [
       "'/Users/milliespencer/Desktop/GitHub/Chile-Glaciers/data'"
      ]
     },
     "execution_count": 9,
     "metadata": {},
     "output_type": "execute_result"
    }
   ],
   "source": [
    "data_directory = os.path.join(os.path.expanduser(\"~\"),'Desktop', 'GitHub', 'Chile-Glaciers', 'data')\n",
    "#tilda tells it to go look for the home of your computer \n",
    "data_directory"
   ]
  },
  {
   "cell_type": "code",
   "execution_count": 10,
   "id": "c231e84a",
   "metadata": {},
   "outputs": [],
   "source": [
    "studyareas_path = os.path.join(data_directory, 'studyareas', 'studyareas.shp')\n",
    "glims_path = os.path.join(data_directory, 'RGI_17.SouthernAndes', '17_rgi60_SouthernAndes.shp')\n"
   ]
  },
  {
   "cell_type": "code",
   "execution_count": 13,
   "id": "89b3e8b4",
   "metadata": {
    "scrolled": true
   },
   "outputs": [],
   "source": [
    "studyareas = gpd.read_file(studyareas_path)\n",
    "glims = gpd.read_file(glims_path)\n"
   ]
  },
  {
   "cell_type": "code",
   "execution_count": 20,
   "id": "8e1d546c",
   "metadata": {},
   "outputs": [
    {
     "name": "stdout",
     "output_type": "stream",
     "text": [
      "epsg:4326\n",
      "GEOGCS[\"WGS 84\",DATUM[\"WGS_1984\",SPHEROID[\"WGS 84\",6378137,298.257223563,AUTHORITY[\"EPSG\",\"7030\"]],AUTHORITY[\"EPSG\",\"6326\"]],PRIMEM[\"Greenwich\",0,AUTHORITY[\"EPSG\",\"8901\"]],UNIT[\"degree\",0.0174532925199433],AXIS[\"Longitude\",EAST],AXIS[\"Latitude\",NORTH]]\n",
      "EPSG:32719\n",
      "EPSG:32719\n"
     ]
    }
   ],
   "source": [
    "print(glims.crs)\n",
    "print(studyareas.crs)\n",
    "#studyareas.bounds\n",
    "\n",
    "utm_19s_crs = 'EPSG:32719'\n",
    "studyareas = studyareas.to_crs(utm_19s_crs)\n",
    "glims = glims.to_crs(utm_19s_crs)\n",
    "\n",
    "print(glims.crs)\n",
    "print(studyareas.crs)"
   ]
  },
  {
   "cell_type": "code",
   "execution_count": 27,
   "id": "cda7950c",
   "metadata": {},
   "outputs": [
    {
     "name": "stderr",
     "output_type": "stream",
     "text": [
      "/Users/milliespencer/miniconda3/envs/earth-analytics-python/lib/python3.8/site-packages/pygeos/set_operations.py:129: RuntimeWarning: invalid value encountered in intersection\n",
      "  return lib.intersection(a, b, **kwargs)\n",
      "/Users/milliespencer/miniconda3/envs/earth-analytics-python/lib/python3.8/site-packages/pygeos/constructive.py:175: RuntimeWarning: invalid value encountered in buffer\n",
      "  return lib.buffer(\n"
     ]
    }
   ],
   "source": [
    "#first clip glims to the study areas: \n",
    "glimsclip = glims.clip(studyareas)\n",
    "glimsclip = glimsclip.dissolve()\n",
    "\n",
    "#buffer time! :) \n",
    "glimsclipbuffer = glimsclip.buffer(500)"
   ]
  },
  {
   "cell_type": "code",
   "execution_count": 31,
   "id": "90e71b0f",
   "metadata": {},
   "outputs": [],
   "source": [
    "#glimsclip.geometry = glimsclipbuffer\n",
    "#glimsclip\n",
    "#nvm, geometry is kind irrelevant here since it'll only give us glacier area (eg) for the 1st one of the mega glacier polygon\n",
    "\n",
    "glimsclipbuffer.to_file(os.path.join(data_directory, 'glims_buffer', 'glims_buffer.shp'))\n"
   ]
  },
  {
   "cell_type": "code",
   "execution_count": 33,
   "id": "46dcddfc",
   "metadata": {},
   "outputs": [
    {
     "data": {
      "text/plain": [
       "<Axes: >"
      ]
     },
     "execution_count": 33,
     "metadata": {},
     "output_type": "execute_result"
    },
    {
     "data": {
      "image/png": "[encoded data removed]",
      "text/plain": [
       "<Figure size 640x480 with 1 Axes>"
      ]
     },
     "metadata": {},
     "output_type": "display_data"
    }
   ],
   "source": [
    "glimsclipbuffer.plot()\n"
   ]
  }
 ],
 "metadata": {
  "kernelspec": {
   "display_name": "Python 3 (ipykernel)",
   "language": "python",
   "name": "python3"
  },
  "language_info": {
   "codemirror_mode": {
    "name": "ipython",
    "version": 3
   },
   "file_extension": ".py",
   "mimetype": "text/x-python",
   "name": "python",
   "nbconvert_exporter": "python",
   "pygments_lexer": "ipython3",
   "version": "3.8.16"
  }
 },
 "nbformat": 4,
 "nbformat_minor": 5
}
